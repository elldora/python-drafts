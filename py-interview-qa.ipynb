{
 "cells": [
  {
   "cell_type": "markdown",
   "id": "b679887e",
   "metadata": {},
   "source": [
    "# Deep copy, shallow copy, and = in Python    "
   ]
  },
  {
   "cell_type": "markdown",
   "id": "ae3dd25f",
   "metadata": {},
   "source": [
    "### Simple Objects"
   ]
  },
  {
   "cell_type": "code",
   "execution_count": 1,
   "id": "de927708",
   "metadata": {},
   "outputs": [],
   "source": [
    "import copy"
   ]
  },
  {
   "cell_type": "code",
   "execution_count": 40,
   "id": "17596f2e",
   "metadata": {},
   "outputs": [
    {
     "name": "stdout",
     "output_type": "stream",
     "text": [
      "2\n",
      "2\n",
      "2\n",
      "7\n"
     ]
    }
   ],
   "source": [
    "a = 2\n",
    "b = a\n",
    "print(a)\n",
    "print(b)\n",
    "\n",
    "b+= 5\n",
    "print(a)\n",
    "print(b)"
   ]
  },
  {
   "cell_type": "code",
   "execution_count": 42,
   "id": "f75152e4",
   "metadata": {},
   "outputs": [
    {
     "name": "stdout",
     "output_type": "stream",
     "text": [
      "[2, 3, 4]\n",
      "[2, 3, 4]\n",
      "[2, 3, 4]\n",
      "[7, 3, 4]\n",
      "[11, 3, 4]\n",
      "[7, 3, 4]\n"
     ]
    }
   ],
   "source": [
    "a = [2, 3, 4]\n",
    "b = copy.copy(a)\n",
    "print(a)\n",
    "print(b)\n",
    "\n",
    "b[0]+= 5\n",
    "print(a)\n",
    "print(b)\n",
    "\n",
    "a[0]+=9\n",
    "print(a)\n",
    "print(b)"
   ]
  },
  {
   "cell_type": "code",
   "execution_count": 15,
   "id": "74a3206b",
   "metadata": {},
   "outputs": [
    {
     "name": "stdout",
     "output_type": "stream",
     "text": [
      "[1, 2, 3]\n",
      "[1, 2, 3]\n",
      "[1, 2, 3]\n",
      "[6, 2, 3]\n",
      "[10, 2, 3]\n",
      "[6, 2, 3]\n"
     ]
    }
   ],
   "source": [
    "a = [1,2, 3]\n",
    "b = copy.deepcopy(a)\n",
    "print(a)\n",
    "print(b)\n",
    "\n",
    "b[0]+= 5\n",
    "print(a)\n",
    "print(b)\n",
    "\n",
    "a[0]+=9\n",
    "print(a)\n",
    "print(b)"
   ]
  },
  {
   "cell_type": "markdown",
   "id": "c6025b11",
   "metadata": {},
   "source": [
    "### Nested Objects"
   ]
  },
  {
   "cell_type": "code",
   "execution_count": 39,
   "id": "45d6c718",
   "metadata": {},
   "outputs": [
    {
     "name": "stdout",
     "output_type": "stream",
     "text": [
      "{'key1': {'key11': [1, 2, 3]}, 'key2': [4, 5, 6]}\n",
      "{'key1': {'key11': [1, 2, 3]}, 'key2': [4, 5, 6]}\n",
      "{'key1': {'key11': [1, 100, 99]}, 'key2': [4, 5, 6]}\n",
      "{'key1': {'key11': [1, 100, 99]}, 'key2': [4, 5, 6]}\n"
     ]
    }
   ],
   "source": [
    "import copy\n",
    "\n",
    "original = {'key1': {'key11':[1, 2, 3]}, 'key2': [4, 5, 6]}\n",
    "shallow_copy = original\n",
    "\n",
    "print(original)       \n",
    "print(shallow_copy) \n",
    "\n",
    "\n",
    "original['key1']['key11'][2] = 99\n",
    "shallow_copy['key1']['key11'][1] = 100\n",
    "\n",
    "print(original)       \n",
    "print(shallow_copy)  "
   ]
  },
  {
   "cell_type": "code",
   "execution_count": 38,
   "id": "0c23b75c",
   "metadata": {},
   "outputs": [
    {
     "name": "stdout",
     "output_type": "stream",
     "text": [
      "{'key1': {'key11': [1, 2, 3]}, 'key2': [4, 5, 6]}\n",
      "{'key1': {'key11': [1, 2, 3]}, 'key2': [4, 5, 6]}\n",
      "{'key1': {'key11': [1, 100, 99]}, 'key2': [4, 5, 6]}\n",
      "{'key1': {'key11': [1, 100, 99]}, 'key2': [4, 5, 6]}\n"
     ]
    }
   ],
   "source": [
    "import copy\n",
    "\n",
    "original = {'key1': {'key11':[1, 2, 3]}, 'key2': [4, 5, 6]}\n",
    "shallow_copy = copy.copy(original)\n",
    "\n",
    "print(original)       \n",
    "print(shallow_copy) \n",
    "\n",
    "\n",
    "original['key1']['key11'][2] = 99\n",
    "shallow_copy['key1']['key11'][1] = 100\n",
    "\n",
    "print(original)       \n",
    "print(shallow_copy)    "
   ]
  },
  {
   "cell_type": "code",
   "execution_count": 37,
   "id": "930dcdd5",
   "metadata": {},
   "outputs": [
    {
     "name": "stdout",
     "output_type": "stream",
     "text": [
      "{'key1': {'key11': [1, 2, 3]}, 'key2': [4, 5, 6]}\n",
      "{'key1': {'key11': [1, 2, 3]}, 'key2': [4, 5, 6]}\n",
      "{'key1': {'key11': [1, 2, 99]}, 'key2': [4, 5, 6]}\n",
      "{'key1': {'key11': [1, 2, 3]}, 'key2': [4, 5, 6]}\n"
     ]
    }
   ],
   "source": [
    "import copy\n",
    "\n",
    "original = {'key1': {'key11':[1, 2, 3]}, 'key2': [4, 5, 6]}\n",
    "deep_copy = copy.deepcopy(original)\n",
    "\n",
    "print(original)       \n",
    "print(deep_copy) \n",
    "\n",
    "\n",
    "original['key1']['key11'][2] = 99\n",
    "\n",
    "print(original)       \n",
    "print(deep_copy)      "
   ]
  },
  {
   "cell_type": "markdown",
   "id": "b58975c6",
   "metadata": {},
   "source": [
    "# Different Methods in python "
   ]
  },
  {
   "cell_type": "markdown",
   "id": "1d05c775",
   "metadata": {},
   "source": [
    "### Super Method"
   ]
  },
  {
   "cell_type": "code",
   "execution_count": 59,
   "id": "59a5efee",
   "metadata": {},
   "outputs": [
    {
     "name": "stdout",
     "output_type": "stream",
     "text": [
      "The name is: Apple\n",
      "The shape is: Round\n",
      "The color is: Yellow\n",
      "The taste is: Sweet\n"
     ]
    }
   ],
   "source": [
    "class Fruit():\n",
    "    def __init__(self, name, shape, color):\n",
    "        self.name = name\n",
    "        self.shape = shape\n",
    "        self.color = color\n",
    "\n",
    "class Apple(Fruit):\n",
    "    def __init__(self,  name, shape, color, taste):\n",
    "        super().__init__(name, shape, color)\n",
    "        self.taste = taste\n",
    "    def show(self):\n",
    "        print(\"The name is:\", self.name)\n",
    "        print(\"The shape is:\", self.shape)\n",
    "        print(\"The color is:\", self.color)\n",
    "        print(\"The taste is:\", self.taste)\n",
    "\n",
    "apple = Apple(\"Apple\", \"Round\", \"Yellow\" , \"Sweet\")\n",
    "apple.show()"
   ]
  },
  {
   "cell_type": "markdown",
   "id": "2ce4b03e",
   "metadata": {},
   "source": [
    "### Static Methods"
   ]
  },
  {
   "cell_type": "code",
   "execution_count": 7,
   "id": "7201166c",
   "metadata": {},
   "outputs": [
    {
     "name": "stdout",
     "output_type": "stream",
     "text": [
      "apples are healthy and come in various shapes and colors.\n"
     ]
    }
   ],
   "source": [
    "class Fruit:\n",
    "    @staticmethod\n",
    "    def show_info(name):\n",
    "        print(f\"{name} are healthy and come in various shapes and colors.\")\n",
    "\n",
    "Fruit.show_info(\"apples\")"
   ]
  },
  {
   "cell_type": "markdown",
   "id": "aaf40043",
   "metadata": {},
   "source": [
    "### Instance Methods\n"
   ]
  },
  {
   "cell_type": "code",
   "execution_count": 21,
   "id": "7cc02231",
   "metadata": {},
   "outputs": [],
   "source": [
    "class MyClass:\n",
    "    def __init__(self, value):\n",
    "        self.value = value  \n",
    "    def instance_method(self):\n",
    "        return f\"Instance method called. Value is {self.value}\""
   ]
  },
  {
   "cell_type": "code",
   "execution_count": 22,
   "id": "cbd40b6a",
   "metadata": {},
   "outputs": [
    {
     "name": "stdout",
     "output_type": "stream",
     "text": [
      "Instance method called. Value is 10\n"
     ]
    }
   ],
   "source": [
    "obj = MyClass(10)\n",
    "print(obj.instance_method())  "
   ]
  },
  {
   "cell_type": "code",
   "execution_count": 23,
   "id": "6ae6e228",
   "metadata": {},
   "outputs": [],
   "source": [
    "class MyClass:\n",
    "    class_variable = \"Class variable\"\n",
    "    \n",
    "    @classmethod\n",
    "    def class_method(cls):\n",
    "        return f\"Class method called. Class variable is {cls.class_variable}\"   "
   ]
  },
  {
   "cell_type": "code",
   "execution_count": 24,
   "id": "1c59744e",
   "metadata": {},
   "outputs": [
    {
     "name": "stdout",
     "output_type": "stream",
     "text": [
      "Class method called. Class variable is Class variable\n"
     ]
    }
   ],
   "source": [
    "obj = MyClass()\n",
    "print(obj.class_method())  "
   ]
  },
  {
   "cell_type": "markdown",
   "id": "82fdd954",
   "metadata": {},
   "source": [
    "\n",
    "\n"
   ]
  },
  {
   "cell_type": "code",
   "execution_count": 25,
   "id": "c95aa1d3",
   "metadata": {},
   "outputs": [],
   "source": [
    "class Date:\n",
    "    def __init__(self,day, month, year):\n",
    "        self.day = day\n",
    "        self.month = month\n",
    "        self.year = year    \n",
    "    def display(self):  \n",
    "        print(f\"{self.day}/{self.month}/{self.year}\")\n",
    "\n",
    "    @classmethod\n",
    "    def from_string(cls, date_string):\n",
    "        day, month, year = map(int, date_string.split('/'))\n",
    "        return cls(day, month, year)"
   ]
  },
  {
   "cell_type": "code",
   "execution_count": 26,
   "id": "04c3e63d",
   "metadata": {},
   "outputs": [
    {
     "name": "stdout",
     "output_type": "stream",
     "text": [
      "1/2/2023\n",
      "None\n"
     ]
    }
   ],
   "source": [
    "obj1 = Date(1, 2, 2023)\n",
    "print(obj1.display())  "
   ]
  },
  {
   "cell_type": "code",
   "execution_count": 28,
   "id": "acaad4fb",
   "metadata": {},
   "outputs": [
    {
     "name": "stdout",
     "output_type": "stream",
     "text": [
      "1/2/2023\n",
      "None\n"
     ]
    }
   ],
   "source": [
    "obj2 = Date.from_string(\"1/2/2023\")\n",
    "print(obj2.display()) "
   ]
  },
  {
   "cell_type": "code",
   "execution_count": 29,
   "id": "56607929",
   "metadata": {},
   "outputs": [
    {
     "name": "stdout",
     "output_type": "stream",
     "text": [
      "2025 4 9\n"
     ]
    }
   ],
   "source": [
    "class Date:\n",
    "    def __init__(self, year, month, day):\n",
    "        self.year = year\n",
    "        self.month = month\n",
    "        self.day = day\n",
    "\n",
    "    @classmethod\n",
    "    def from_string(cls, date_string):\n",
    "        year, month, day = map(int, date_string.split(\"-\"))\n",
    "        return cls(year, month, day)\n",
    "\n",
    "date = Date.from_string(\"2025-04-09\")\n",
    "print(date.year, date.month, date.day)  # Output: 2025 4 9"
   ]
  },
  {
   "cell_type": "markdown",
   "id": "8a1b3c3d",
   "metadata": {},
   "source": [
    "# Meta Class in Python"
   ]
  },
  {
   "cell_type": "code",
   "execution_count": 51,
   "id": "53570fbd",
   "metadata": {},
   "outputs": [
    {
     "name": "stdout",
     "output_type": "stream",
     "text": [
      "dog\n"
     ]
    }
   ],
   "source": [
    "class Animal(object):\n",
    "\tdef __init__(self, animalType):\n",
    "\t\tself.animalType = animalType\n",
    "\tdef getAnimalType(self):\n",
    "\t\treturn self.animalType\n",
    "\n",
    "dogInstance = Animal(animalType = \"dog\")\n",
    "print(dogInstance.getAnimalType()) "
   ]
  },
  {
   "cell_type": "code",
   "execution_count": 54,
   "id": "e8b3654b",
   "metadata": {},
   "outputs": [
    {
     "name": "stdout",
     "output_type": "stream",
     "text": [
      "dog\n"
     ]
    }
   ],
   "source": [
    "def __init__(self, animalType):\n",
    "\t\tself.animalType = animalType\n",
    "def getAnimalType(self):\n",
    "    return self.animalType\n",
    "\n",
    "Animal = type('Animal', (object,), {'__init__':__init__, 'getAnimalType':getAnimalType})\n",
    "\n",
    "dogInstance = Animal(animalType='dog')\n",
    "print(dogInstance.getAnimalType())  \n",
    "\t\n"
   ]
  },
  {
   "cell_type": "code",
   "execution_count": 58,
   "id": "045e7af8",
   "metadata": {},
   "outputs": [
    {
     "name": "stdout",
     "output_type": "stream",
     "text": [
      "Creating class: Animal\n",
      "Initalizing dog\n"
     ]
    }
   ],
   "source": [
    "class MetaClass(type):\n",
    "    def __new__(cls, name, bases, attrs):\n",
    "        print(f\"Creating class: {name}\")\n",
    "        return super().__new__(cls, name, bases, attrs)\n",
    "\n",
    "class Animal(metaclass=MetaClass):\n",
    "    def __init__(self, animalType):\n",
    "        self.animalType = animalType\n",
    "\n",
    "    def getAnimalType(self):\n",
    "        return self.animalType\n",
    "    \n",
    "dogInstance = Animal(animalType='dog')\n",
    "print(f\"Initalizing {getAnimalType(dogInstance)}\")  # Output: dog"
   ]
  },
  {
   "cell_type": "markdown",
   "id": "ba270857",
   "metadata": {},
   "source": [
    "# Decorators in Python"
   ]
  },
  {
   "cell_type": "code",
   "execution_count": 7,
   "id": "fdfc8e01",
   "metadata": {},
   "outputs": [
    {
     "name": "stdout",
     "output_type": "stream",
     "text": [
      "Hello Elahe\n",
      "Welcome to Hotel Alborz! \n",
      "Please see the menum: \n",
      "1. Pizza\n",
      "2. Burger\n",
      "3. Sandwich\n"
     ]
    }
   ],
   "source": [
    "def form(func, name):\n",
    "    return func(name)\n",
    "\n",
    "def greet(user_name):\n",
    "    return f\"Hello {user_name}\"\n",
    "\n",
    "def show_menu(resturant_name):\n",
    "    return f\"Welcome to {resturant_name}! \\nPlease see the menum: \\n1. Pizza\\n2. Burger\\n3. Sandwich\"\n",
    "          \n",
    "result = form(greet, \"Elahe\")\n",
    "result2 = form(show_menu, \"Hotel Alborz\")\n",
    "print(result)   \n",
    "print(result2)\n",
    "\n"
   ]
  },
  {
   "cell_type": "code",
   "execution_count": null,
   "id": "b1346fd5",
   "metadata": {},
   "outputs": [
    {
     "name": "stdout",
     "output_type": "stream",
     "text": [
      "Hello Elahe\n",
      "Welcome to Hotel Alborz! \n",
      "Please see the menum: \n",
      "1. Pizza\n",
      "2. Burger\n",
      "3. Sandwich\n"
     ]
    }
   ],
   "source": [
    "\n",
    "def form_decorator(func):\n",
    "    def wrapper(*args, **kwargs):\n",
    "        return func(*args, **kwargs)\n",
    "    return wrapper\n",
    "\n",
    "@form_decorator\n",
    "def greet(user_name):\n",
    "    return f\"Hello {user_name}\"\n",
    "\n",
    "@form_decorator\n",
    "def show_menu(resturant_name):\n",
    "    return f\"Welcome to {resturant_name}! \\nPlease see the menum: \\n1. Pizza\\n2. Burger\\n3. Sandwich\"\n",
    "          \n",
    "result = greet(\"Elahe\")\n",
    "result2 = show_menu(\"Hotel Alborz\")\n",
    "print(result)   \n",
    "print(result2)\n",
    "\n"
   ]
  }
 ],
 "metadata": {
  "kernelspec": {
   "display_name": "base",
   "language": "python",
   "name": "python3"
  },
  "language_info": {
   "codemirror_mode": {
    "name": "ipython",
    "version": 3
   },
   "file_extension": ".py",
   "mimetype": "text/x-python",
   "name": "python",
   "nbconvert_exporter": "python",
   "pygments_lexer": "ipython3",
   "version": "3.11.3"
  }
 },
 "nbformat": 4,
 "nbformat_minor": 5
}
