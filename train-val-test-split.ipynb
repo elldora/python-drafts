{
 "cells": [
  {
   "cell_type": "markdown",
   "metadata": {},
   "source": [
    "# Methods for Customized Train, Validation, and Test sets\n",
    "#### based on the train-test and minority-majority class proportions\n"
   ]
  },
  {
   "cell_type": "code",
   "execution_count": 18,
   "metadata": {},
   "outputs": [],
   "source": [
    "import numpy as np\n",
    "\n",
    "def odd_split(X, y, minority_class = 0, minority_test_size = 0.1):\n",
    "    minority_indices = np.where(y == minority_class)[0]\n",
    "    majority_indices = np.where(y != minority_class)[0]\n",
    "    \n",
    "    print(\"minority_indicies: {}\", minority_indices)\n",
    "    print(\"minority_indicies: {}\", len(minority_indices))\n",
    "\n",
    "    print(\"majority_indicies: {}\", majority_indices)\n",
    "    print(\"majority_indicies: {}\", len(majority_indices))\n",
    "\n",
    "    n = max(1, int(minority_test_size * len(minority_indices)))\n",
    "    print(\"n:{}\", n)\n",
    "    selected = np.random.choice(range(len(minority_indices)), n, replace=False)\n",
    "    print(\"selected: {}\", selected)\n",
    "    test_minority_indices = minority_indices[selected]\n",
    "    print(\"test_minority_indicies: {}\", test_minority_indices)\n",
    "    assert (y[test_minority_indices] == minority_class).all()\n",
    "\n",
    "    selected = np.random.choice(range(len(majority_indices)), n, replace=False)\n",
    "    print(\"selected: {}\", selected)\n",
    "    test_majority_indices = majority_indices[selected]\n",
    "    print(\"test_majority_indicies: {}\", test_majority_indices)\n",
    "    assert (y[test_majority_indices ] != minority_class).all()\n",
    "\n",
    "    test_indices = np.concatenate((test_minority_indices, test_majority_indices))\n",
    "    train_indices = np.array([i for i in range(len(y)) if i not in set(test_indices)])\n",
    "\n",
    "    return X[train_indices], y[train_indices], X[test_indices], y[test_indices]\n"
   ]
  },
  {
   "cell_type": "code",
   "execution_count": 42,
   "metadata": {},
   "outputs": [],
   "source": [
    "def train_test_split(X, y, minority_class = 0, test_size = 0.2, minority_test_size = 0.1):\n",
    "    minority_indices = np.where(y==minority_class)[0]\n",
    "    majority_indices = np.where(y!=minority_class)[0]\n",
    "\n",
    "    n_samples = X.shape[0]\n",
    "    n_test = n_samples * test_size\n",
    "\n",
    "    n = max(1, int(minority_test_size * n_test))\n",
    "    selected = np.random.choice(range(len(minority_indices)), n, replace=False)\n",
    "    test_minority_indices = minority_indices[selected]\n",
    "    assert (y[test_minority_indices] == minority_class).all()\n",
    "\n",
    "    n = max(1, int((1-minority_test_size) * n_test))\n",
    "    selected = np.random.choice(range(len(majority_indices)), n, replace=False)\n",
    "    test_majority_indices = majority_indices[selected]\n",
    "    assert (y[test_majority_indices ] != minority_class).all()\n",
    "\n",
    "    test_indices = np.concatenate((test_minority_indices, test_majority_indices))\n",
    "    train_indices = np.array([i for i in range(len(y)) if i not in set(test_indices)])\n",
    "\n",
    "    return X[train_indices], y[train_indices], X[test_indices], y[test_indices]\n",
    "\n",
    "\n",
    "def train_val_split(X, y, minority_class = 0, val_size = 0.1, minority_val_size = 0.1, minority_train_size = 0.5):\n",
    "    minority_indices = np.where(y == minority_class)[0]\n",
    "    majority_indices = np.where(y != minority_class)[0]\n",
    "\n",
    "    n_samples = X.shape[0]\n",
    "    n_train = n_samples * (1 - val_size)\n",
    "\n",
    "    min_size = max(1, int(minority_train_size * n_train))\n",
    "    selected = np.random.choice(range(len(minority_indices)), min_size, replace=False)\n",
    "    train_minority_indices = minority_indices[selected]\n",
    "    val_minority_indices =  np.setdiff1d(minority_indices, train_minority_indices)\n",
    "    assert (y[train_minority_indices] == minority_class).all()\n",
    "\n",
    "    maj_size = max(1, int((1 - minority_train_size) * n_train))\n",
    "    selected = np.random.choice(range(len(majority_indices)), maj_size, replace=False)\n",
    "    train_majority_indices = majority_indices[selected]\n",
    "    val_majority_indices =  np.setdiff1d(majority_indices, train_majority_indices)\n",
    "    assert (y[train_majority_indices ] != minority_class).all()\n",
    "\n",
    "    train_indices = np.concatenate((train_minority_indices, train_majority_indices))\n",
    "    val_indices = np.concatenate((val_minority_indices, val_majority_indices))\n",
    "\n",
    "    return X[train_indices], y[train_indices], X[val_indices], y[val_indices]\n",
    "\n",
    "\n"
   ]
  },
  {
   "cell_type": "code",
   "execution_count": 45,
   "metadata": {},
   "outputs": [
    {
     "name": "stdout",
     "output_type": "stream",
     "text": [
      "Whole Counter({1: 612, 0: 388})\n",
      "<class 'numpy.ndarray'>\n",
      "<class 'numpy.ndarray'>\n",
      "Train Counter({1: 432, 0: 368})\n",
      "Test Counter({1: 180, 0: 20})\n",
      "Train Counter({0: 360, 1: 360})\n",
      "Validation Counter({1: 72, 0: 8})\n"
     ]
    }
   ],
   "source": [
    "from collections import Counter \n",
    " \n",
    "X = np.random.normal(size=(1000, 2))  \n",
    "y = np.random.choice([0, 1], p=[0.4, 0.6], size=1000)\n",
    "print('Whole', Counter(y))\n",
    "print(type(X))\n",
    "print(type(y))\n",
    "\n",
    "X_train, y_train, X_test, y_test = train_test_split(X, y)\n",
    "print('Train', Counter(y_train))\n",
    "print('Test', Counter(y_test))\n",
    "\n",
    "X_train, y_train, X_val, y_val = train_val_split(X_train, y_train)\n",
    "print('Train', Counter(y_train))\n",
    "print('Validation', Counter(y_val))"
   ]
  },
  {
   "cell_type": "code",
   "execution_count": 10,
   "metadata": {},
   "outputs": [
    {
     "data": {
      "text/plain": [
       "1000"
      ]
     },
     "execution_count": 10,
     "metadata": {},
     "output_type": "execute_result"
    }
   ],
   "source": []
  }
 ],
 "metadata": {
  "kernelspec": {
   "display_name": "Python 3.8.13 ('tensorflow-keras')",
   "language": "python",
   "name": "python3"
  },
  "language_info": {
   "codemirror_mode": {
    "name": "ipython",
    "version": 3
   },
   "file_extension": ".py",
   "mimetype": "text/x-python",
   "name": "python",
   "nbconvert_exporter": "python",
   "pygments_lexer": "ipython3",
   "version": "3.8.13"
  },
  "orig_nbformat": 4,
  "vscode": {
   "interpreter": {
    "hash": "6792be08d248a6a913297fb0a515ddc17689372100569e91a189e4d8039a3a50"
   }
  }
 },
 "nbformat": 4,
 "nbformat_minor": 2
}
