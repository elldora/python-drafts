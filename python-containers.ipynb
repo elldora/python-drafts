{
 "cells": [
  {
   "cell_type": "markdown",
   "id": "0578d19b",
   "metadata": {},
   "source": [
    "In Python, containers are data structures used to store and organize data. Here's a comparison of some commonly used containers:\n",
    "\n",
    "| **Container**      | **Mutable**    | **Ordered**   | **Duplicates Allowed** | **Key Features**                                                                 |\n",
    "|---------------------|----------------|---------------|-------------------------|----------------------------------------------------------------------------------|\n",
    "| **List**           | Yes            | Yes           | Yes                     | A dynamic, mutable sequence. Can store heterogeneous data.                      |\n",
    "| **Tuple**          | No             | Yes           | Yes                     | Immutable sequence. Ideal for fixed collections of items.                       |\n",
    "| **Set**            | Yes            | No            | No                      | Stores unique, unordered elements. Efficient for membership testing.            |\n",
    "| **Dictionary**     | Yes (keys are not mutable) | No | Keys: No; Values: Yes  | Stores key-value pairs. Efficient for lookups and updates using keys.           |\n",
    "| **String**         | No             | Yes           | Yes                     | Immutable sequence of characters. Common for text processing.                   |\n",
    "| **Deque (from collections)** | Yes  | Yes           | Yes                     | Double-ended queue optimized for appending and popping from both ends.          |\n",
    "| **Frozen Set**     | No             | No            | No                      | Immutable version of a set. Useful as keys in dictionaries.                     |\n",
    "| **Named Tuple**    | No             | Yes           | Yes                     | Tuple subclass with named fields for better readability.                        |\n",
    "| **Array (from array)** | Yes        | Yes           | Yes                     | Mutable sequence for uniform data types (more memory-efficient than lists).      |\n",
    "| **Heap (from heapq)** | Yes         | Yes (sort order) | Yes                   | Implements a priority queue, where smallest/largest elements are efficiently accessed. |\n",
    "\n",
    "### Notes:\n",
    "- **Lists vs Tuples**: Use lists for mutable data and tuples for immutable collections.\n",
    "- **Set vs Dictionary**: Use sets for storing unique items; dictionaries for mapping key-value pairs.\n",
    "- **Performance Considerations**: Tuples are slightly faster than lists for read-only use cases because of their immutability.\n",
    "- **Specialized Containers**: `collections` module provides additional containers like `Counter`, `defaultdict`, and `OrderedDict` for specific needs.\n",
    "\n",
    "Let me know which container you’re curious about or if you'd like code examples! 🚀"
   ]
  },
  {
   "cell_type": "code",
   "execution_count": 1,
   "id": "5e6f634d",
   "metadata": {},
   "outputs": [
    {
     "name": "stdout",
     "output_type": "stream",
     "text": [
      "{1, 2, 3, 4}\n"
     ]
    }
   ],
   "source": [
    "my_set = {1, 2, 3, 3, 4}  # Duplicates are removed.\n",
    "print(my_set)  # Output: {1, 2, 3, 4}\n"
   ]
  },
  {
   "cell_type": "code",
   "execution_count": 18,
   "id": "d86a98a3",
   "metadata": {},
   "outputs": [
    {
     "name": "stdout",
     "output_type": "stream",
     "text": [
      "{1, 2, 3, 4, -1}\n"
     ]
    }
   ],
   "source": [
    "my_set = set([1, 2, 3, 3, 4, -1])  # Convert a list to a set.\n",
    "print(my_set)  \n"
   ]
  },
  {
   "cell_type": "code",
   "execution_count": 19,
   "id": "bb59ec53",
   "metadata": {},
   "outputs": [
    {
     "name": "stdout",
     "output_type": "stream",
     "text": [
      "{1, 2, 3, 4, 5, -1}\n"
     ]
    }
   ],
   "source": [
    "my_set.add(5)  # Convert a list to a set.\n",
    "print(my_set)  "
   ]
  },
  {
   "cell_type": "code",
   "execution_count": 20,
   "id": "04bda58a",
   "metadata": {},
   "outputs": [
    {
     "name": "stdout",
     "output_type": "stream",
     "text": [
      "{1, 2, 3, 4, 5, -3, -1}\n"
     ]
    }
   ],
   "source": [
    "my_set.add(-3)  # Convert a list to a set.\n",
    "print(my_set)  "
   ]
  },
  {
   "cell_type": "code",
   "execution_count": 21,
   "id": "b53aafa2",
   "metadata": {},
   "outputs": [
    {
     "name": "stdout",
     "output_type": "stream",
     "text": [
      "{1, 2, 3, 4, 5, 8, -3, -1}\n"
     ]
    }
   ],
   "source": [
    "my_set.add(8)  # Convert a list to a set.\n",
    "print(my_set)  "
   ]
  },
  {
   "cell_type": "code",
   "execution_count": 23,
   "id": "7e6c26de",
   "metadata": {},
   "outputs": [
    {
     "name": "stdout",
     "output_type": "stream",
     "text": [
      "{1: 'one', 2: 'two', 3: 'three', 4: 'four'}\n",
      "{1: 'one', 3: 'three', 4: 'four'}\n"
     ]
    }
   ],
   "source": [
    "dict = {1: 'one', 2: 'two', 3: 'three'}  # Create a dictionary. \n",
    "dict[4] = 'four'  # Add a new key-value pair.\n",
    "print(dict)  # Output: {1: 'one', 2: 'two', 3: 'three', 4: 'four'}\n",
    "del dict[2]  # Remove a key-value pair.\n",
    "print(dict)  # Output: {1: 'one', 3: 'three', 4: 'four'}\n"
   ]
  },
  {
   "cell_type": "code",
   "execution_count": 25,
   "id": "f140d25f",
   "metadata": {},
   "outputs": [
    {
     "name": "stdout",
     "output_type": "stream",
     "text": [
      "deque([1, 2, 3, 4])\n"
     ]
    }
   ],
   "source": [
    "from collections import deque  # Import deque from collections module.\n",
    "dq = deque([1, 2, 3])  # Create a deque.\n",
    "dq.append(4)  # Append an element to the right.\n",
    "\n",
    "print(dq)  # Output: deque([1, 2, 3, 4])"
   ]
  },
  {
   "cell_type": "code",
   "execution_count": 26,
   "id": "9775a783",
   "metadata": {},
   "outputs": [
    {
     "name": "stdout",
     "output_type": "stream",
     "text": [
      "deque([0, 1, 2, 3, 4])\n"
     ]
    }
   ],
   "source": [
    "dq.appendleft(0)  # Append an element to the left.\n",
    "print(dq)  # Output: deque([0, 1, 2, 3, 4]) "
   ]
  },
  {
   "cell_type": "code",
   "execution_count": 27,
   "id": "c8daaf57",
   "metadata": {},
   "outputs": [],
   "source": [
    "dq.append(5)  # Append an element to the right."
   ]
  },
  {
   "cell_type": "code",
   "execution_count": 29,
   "id": "6227bf24",
   "metadata": {},
   "outputs": [
    {
     "name": "stdout",
     "output_type": "stream",
     "text": [
      "deque([0, 1, 2, 3])\n"
     ]
    }
   ],
   "source": [
    "dq.pop()  # Remove an element from the right.\n",
    "print(dq)  # Output: deque([0, 1, 2, 3])    "
   ]
  },
  {
   "cell_type": "code",
   "execution_count": 30,
   "id": "0b0a5722",
   "metadata": {},
   "outputs": [
    {
     "name": "stdout",
     "output_type": "stream",
     "text": [
      "deque([3, 0, 1, 2])\n"
     ]
    }
   ],
   "source": [
    "dq.rotate(1)\n",
    "print(dq)"
   ]
  },
  {
   "cell_type": "code",
   "execution_count": 31,
   "id": "2573dec7",
   "metadata": {},
   "outputs": [
    {
     "name": "stdout",
     "output_type": "stream",
     "text": [
      "deque([0, 1, 2, 3])\n"
     ]
    }
   ],
   "source": [
    "dq.rotate(-1)\n",
    "print(dq)  # Output: deque([1, 2, 3, 0])    "
   ]
  },
  {
   "cell_type": "code",
   "execution_count": 35,
   "id": "3fe4aa70",
   "metadata": {},
   "outputs": [
    {
     "name": "stdout",
     "output_type": "stream",
     "text": [
      "10\n",
      "20\n",
      "10\n",
      "20\n",
      "<class '__main__.PointClass'>\n",
      "PointClass(x=10, y=20)\n"
     ]
    }
   ],
   "source": [
    "from collections import namedtuple\n",
    "\n",
    "# Define a named tuple called 'Point'\n",
    "PointInstance = namedtuple('PointClass', ['x', 'y'])\n",
    "\n",
    "# Create an instance of Point\n",
    "p = PointInstance(10, 20)\n",
    "\n",
    "# Access fields by name\n",
    "print(p.x)  # Output: 10\n",
    "print(p.y)  # Output: 20\n",
    "\n",
    "# Access fields by index (like a regular tuple)\n",
    "print(p[0])  # Output: 10\n",
    "print(p[1])  # Output: 20\n",
    "print(PointInstance)\n",
    "print(p)  # Output: Point(x=10, y=20)"
   ]
  },
  {
   "cell_type": "code",
   "execution_count": null,
   "id": "4233053f",
   "metadata": {},
   "outputs": [],
   "source": []
  }
 ],
 "metadata": {
  "kernelspec": {
   "display_name": "base",
   "language": "python",
   "name": "python3"
  },
  "language_info": {
   "codemirror_mode": {
    "name": "ipython",
    "version": 3
   },
   "file_extension": ".py",
   "mimetype": "text/x-python",
   "name": "python",
   "nbconvert_exporter": "python",
   "pygments_lexer": "ipython3",
   "version": "3.11.3"
  }
 },
 "nbformat": 4,
 "nbformat_minor": 5
}
