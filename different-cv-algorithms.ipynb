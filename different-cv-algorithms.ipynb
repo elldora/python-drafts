{
 "cells": [
  {
   "cell_type": "markdown",
   "metadata": {},
   "source": [
    "# Different Methods for Cross-Validation \n",
    "\n",
    "#### From scikit-learn and medium... \n",
    "https://medium.com/geekculture/cross-validation-techniques-33d389897878#id_token=eyJhbGciOiJSUzI1NiIsImtpZCI6IjYzMWZhZTliNTk0MGEyZDFmYmZmYjAwNDAzZDRjZjgwYTIxYmUwNGUiLCJ0eXAiOiJKV1QifQ.eyJpc3MiOiJodHRwczovL2FjY291bnRzLmdvb2dsZS5jb20iLCJuYmYiOjE2NTgwNDU5NzAsImF1ZCI6IjIxNjI5NjAzNTgzNC1rMWs2cWUwNjBzMnRwMmEyamFtNGxqZGNtczAwc3R0Zy5hcHBzLmdvb2dsZXVzZXJjb250ZW50LmNvbSIsInN1YiI6IjEwOTU3MDEwNzcxNTgyNzc0MTAzMiIsImVtYWlsIjoiZWxhaGVkb3JhbmlAZ21haWwuY29tIiwiZW1haWxfdmVyaWZpZWQiOnRydWUsImF6cCI6IjIxNjI5NjAzNTgzNC1rMWs2cWUwNjBzMnRwMmEyamFtNGxqZGNtczAwc3R0Zy5hcHBzLmdvb2dsZXVzZXJjb250ZW50LmNvbSIsIm5hbWUiOiJlbGFoZSBkb3JhbmkiLCJwaWN0dXJlIjoiaHR0cHM6Ly9saDMuZ29vZ2xldXNlcmNvbnRlbnQuY29tL2EvQUl0YnZta0NQZVhNVlRXT1BqM2sxVUd5QkZvVTRoTUhCWnBUR3ExUzh5dWE9czk2LWMiLCJnaXZlbl9uYW1lIjoiZWxhaGUiLCJmYW1pbHlfbmFtZSI6ImRvcmFuaSIsImlhdCI6MTY1ODA0NjI3MCwiZXhwIjoxNjU4MDQ5ODcwLCJqdGkiOiI2NmI0ZTZlNDQ1MWRkZGVlOTU1MDA4NTI5OTQ4ZWY1MmNjMDA5MjM1In0.jnkkrJ82iOogdufns1fY-1FsheDtYd7nVv_WlCn6FbcUBns2z80Pm4yi263PsY9P6poVVcYVTxXuy5wiC43KuZwRxM5iFchI7yIIZCXt7WFaGGw72K40lRtgANZ7lICuu3LxUWO2GLPltH1n06soGr2CAgxWFA33XMmRuGh8DqLD25nT4WwHQS7G2lweXkw35pFR_rqNGtRruLDmWIN5QLoQ0PkrNUvCb0ps5IamP26alYphn5LOlIjjcoRHZbElwSZxKT7NBh3bmamTrnJ0yUh0APDeeDN89pERTMS_QjJ2OBGbcmbK01ghX95W-P5eNRLBQGGscu3wuD5qtSK7-w"
   ]
  },
  {
   "cell_type": "markdown",
   "metadata": {},
   "source": [
    "→ Introduction\n",
    "→ What is Cross-Validation?\n",
    "→ Different Types of Cross-Validation\n",
    "1. Hold-Out Method\n",
    "2. K-Folds Method\n",
    "3. Repeated K-Folds Method\n",
    "4. Stratified K-Folds Method\n",
    "5. Group K-Folds Method\n",
    "6. Shuffle Split Method\n",
    "7. Stratified Shuffle Split Method\n",
    "8. Group Shuffle Split Method\n",
    "9. Leave-One-Out Method\n",
    "10. Leave-P-Out Method\n",
    "11. Leave-One-Group-Out Method\n",
    "12. Leave-P-Group-Out Method\n",
    "13. Time Series Cross-Validation Method\n",
    "14. Blocked Cross-Validation Method\n",
    "15. Nested Cross-Validation Method\n",
    "→ Conclusion\n",
    "→ Reference"
   ]
  },
  {
   "cell_type": "markdown",
   "metadata": {},
   "source": [
    "# Define dataset"
   ]
  },
  {
   "cell_type": "code",
   "execution_count": null,
   "metadata": {},
   "outputs": [],
   "source": [
    "import numpy as np \n",
    "import pandas as pd \n",
    "\n",
    "data = ['Subset1', 'Subset2', 'Subset3', 'Subset4', 'Subset5', 'Subset6', 'Subset7', 'Subset8', 'Subset9', 'Subset10']\n",
    "Y = [1, 0, 1, 0, 0, 1, 1, 0, 1, 0]\n",
    "df = {\"data\":data, \"Y\":Y}\n",
    "df = pd.DataFrame(df)\n",
    "df"
   ]
  },
  {
   "cell_type": "markdown",
   "metadata": {},
   "source": [
    "# Hold-Out Method"
   ]
  },
  {
   "cell_type": "code",
   "execution_count": null,
   "metadata": {},
   "outputs": [],
   "source": [
    "from sklearn import model_selection\n",
    "\n",
    "x_train, x_test, y_train, y_test = model_selection.train_test_split(df.data, df.Y, test_size = 0.2)\n",
    "for i,n in zip(x_train, y_train):\n",
    "  print(i, \"::\", n)\n",
    "for i, n in zip(x_test, y_test):\n",
    "  print(i, \"::\", n)"
   ]
  },
  {
   "cell_type": "code",
   "execution_count": null,
   "metadata": {},
   "outputs": [],
   "source": [
    "x_train, x_test, y_train, y_test = model_selection.train_test_split(df.data, df.Y, test_size = 0.2, stratify = df.Y)\n",
    "for i,n in zip(x_train, y_train):\n",
    "  print(i, \"::\", n)\n",
    "for i, n in zip(x_test, y_test):\n",
    "  print(i, \"::\", n)"
   ]
  },
  {
   "cell_type": "markdown",
   "metadata": {},
   "source": [
    "# K-fold Model Selection"
   ]
  },
  {
   "cell_type": "code",
   "execution_count": null,
   "metadata": {},
   "outputs": [],
   "source": [
    "kfold = model_selection.KFold(n_splits=5)\n",
    "\n",
    "print(\"Train\", \"||\", \"Test\")\n",
    "for train, test in kfold.split(df.data, df.Y):\n",
    "  print(train, \"||\", test)"
   ]
  },
  {
   "cell_type": "code",
   "execution_count": null,
   "metadata": {},
   "outputs": [],
   "source": [
    "tn = []\n",
    "tt = []\n",
    "for train, test in kfold.split(data):\n",
    "  tn.append(np.take(data,train))\n",
    "  tt.append(np.take(data,test))\n",
    "kfold_df = pd.DataFrame({\"train\":tn, \"test\":tt})\n",
    "kfold_df"
   ]
  },
  {
   "cell_type": "code",
   "execution_count": null,
   "metadata": {},
   "outputs": [],
   "source": [
    "kfold = model_selection.KFold(n_splits=5, shuffle=True, random_state=10)\n",
    "print(\"Train\", \"||\", \"Test\")\n",
    "for train, test in kfold.split(data):\n",
    "  print(train, \"||\", test)"
   ]
  },
  {
   "cell_type": "code",
   "execution_count": null,
   "metadata": {},
   "outputs": [],
   "source": [
    "tn = []\n",
    "tt = []\n",
    "for train, test in kfold.split(data):\n",
    "  tn.append(np.take(data,train))\n",
    "  tt.append(np.take(data,test))\n",
    "kfold_df = pd.DataFrame({\"train\":tn, \"test\":tt})\n",
    "kfold_df"
   ]
  },
  {
   "cell_type": "markdown",
   "metadata": {},
   "source": [
    "# Repeated K-folds Method"
   ]
  },
  {
   "cell_type": "code",
   "execution_count": null,
   "metadata": {},
   "outputs": [],
   "source": [
    "Rkfold = model_selection.RepeatedKFold(n_splits=5, n_repeats=5, random_state=2)\n",
    "print(\"Train\", \"||\", \"Test\")\n",
    "for train, test in Rkfold.split(data):\n",
    "  print(train, \"||\", test)"
   ]
  },
  {
   "cell_type": "code",
   "execution_count": null,
   "metadata": {},
   "outputs": [],
   "source": [
    "tn = []\n",
    "tt = []\n",
    "for train, test in Rkfold.split(data):\n",
    "  tn.append(np.take(data,train))\n",
    "  tt.append(np.take(data,test))\n",
    "Rkfold_df = pd.DataFrame({\"train\":tn, \"test\":tt})\n",
    "Rkfold_df"
   ]
  },
  {
   "cell_type": "markdown",
   "metadata": {},
   "source": [
    "# Stratified K-Fold Method:"
   ]
  },
  {
   "cell_type": "code",
   "execution_count": null,
   "metadata": {},
   "outputs": [],
   "source": [
    "strkfold = model_selection.StratifiedKFold(n_splits=5, shuffle = True, random_state =10)\n",
    "tn_x = []\n",
    "tn_y = []\n",
    "tt_x = []\n",
    "tt_y = []\n",
    "for train, test in strkfold.split(data, Y):\n",
    "  tn_x.append(np.take(data,train))\n",
    "  tn_y.append(np.take(Y,train))\n",
    "  tt_x.append(np.take(data,test))\n",
    "  tt_y.append(np.take(Y,test))\n",
    "strkfold_train = pd.DataFrame({\"train_x\":tn_x, \"train_y\":tn_y})\n",
    "strkfold_test = pd.DataFrame({'test_x':tt_x, \"test_y\":tt_y})"
   ]
  },
  {
   "cell_type": "code",
   "execution_count": null,
   "metadata": {},
   "outputs": [],
   "source": [
    "strkfold_train"
   ]
  },
  {
   "cell_type": "code",
   "execution_count": null,
   "metadata": {},
   "outputs": [],
   "source": [
    "strkfold_test"
   ]
  },
  {
   "cell_type": "markdown",
   "metadata": {},
   "source": [
    "# Group K-Folds Method:"
   ]
  },
  {
   "cell_type": "code",
   "execution_count": null,
   "metadata": {},
   "outputs": [],
   "source": [
    "from tokenize import group\n",
    "\n",
    "\n",
    "grpkfold = model_selection.GroupKFold(n_splits=2)\n",
    "print(\"Train\", \"||\", \"Test\")\n",
    "\n",
    "groups = (1, 2, 3, 1, 2, 3, 3, 3, 2, 1)\n",
    "for train, test in grpkfold.split(data, Y, groups=groups):\n",
    "  print(train, \"||\", test)"
   ]
  },
  {
   "cell_type": "code",
   "execution_count": null,
   "metadata": {},
   "outputs": [],
   "source": [
    "tn = []\n",
    "tt = []\n",
    "for train, test in grpkfold.split(data, Y, groups=groups):\n",
    "  tn.append(np.take(data,train))\n",
    "  tt.append(np.take(data,test))\n",
    "grpkfold_df = pd.DataFrame({\"train\":tn, \"test\":tt})\n",
    "grpkfold_df"
   ]
  },
  {
   "cell_type": "code",
   "execution_count": null,
   "metadata": {},
   "outputs": [],
   "source": [
    "# Example of scikit-learn\n",
    "import numpy as np\n",
    "from sklearn.model_selection import GroupShuffleSplit\n",
    "X = np.ones(shape=(8, 2))\n",
    "y = np.ones(shape=(8, 1))\n",
    "groups = np.array([1, 1, 2, 2, 2, 3, 3, 3])\n",
    "print(groups.shape)\n",
    "\n",
    "gss = GroupShuffleSplit(n_splits=2, train_size=.7, random_state=42)\n",
    "gss.get_n_splits()\n",
    "\n",
    "for train_idx, test_idx in gss.split(X, y, groups):\n",
    "    print(\"TRAIN:\", train_idx, \"TEST:\", test_idx)"
   ]
  },
  {
   "cell_type": "markdown",
   "metadata": {},
   "source": [
    "# Shuffle Split Method:\n",
    "\n",
    "Not suitable for an imbalanced dataset."
   ]
  },
  {
   "cell_type": "code",
   "execution_count": null,
   "metadata": {},
   "outputs": [],
   "source": [
    "shsplit = model_selection.ShuffleSplit(n_splits=5, random_state=10)\n",
    "print(\"Train\", \"||\", \"Test\")\n",
    "for train, test in shsplit.split(data):\n",
    "  print(train, \"||\", test)"
   ]
  },
  {
   "cell_type": "code",
   "execution_count": null,
   "metadata": {},
   "outputs": [],
   "source": [
    "tn = []\n",
    "tt = []\n",
    "for train, test in shsplit.split(data):\n",
    "  tn.append(np.take(data,train))\n",
    "  tt.append(np.take(data,test))\n",
    "shsplit_df = pd.DataFrame({\"train\":tn, \"test\":tt})\n",
    "shsplit_df"
   ]
  },
  {
   "cell_type": "markdown",
   "metadata": {},
   "source": [
    "# Stratified Shuffle Split Method:"
   ]
  },
  {
   "cell_type": "code",
   "execution_count": null,
   "metadata": {},
   "outputs": [],
   "source": [
    "strshsplit = model_selection.StratifiedShuffleSplit(n_splits=5, test_size=0.2)\n",
    "print(\"Train\", \"||\", \"Test\")\n",
    "for train, test in strshsplit.split(data, Y):\n",
    "  print(train, \"||\", test)"
   ]
  },
  {
   "cell_type": "code",
   "execution_count": null,
   "metadata": {},
   "outputs": [],
   "source": [
    "tn_x = []\n",
    "tn_y = []\n",
    "tt_x = []\n",
    "tt_y = []\n",
    "for train, test in strshsplit.split(data, Y):\n",
    "  tn_x.append(np.take(data,train))\n",
    "  tn_y.append(np.take(Y,train))\n",
    "  tt_x.append(np.take(data,test))\n",
    "  tt_y.append(np.take(Y,test))\n",
    "strshsplit_train = pd.DataFrame({\"train_x\":tn_x, \"train_y\":tn_y})\n",
    "strshsplit_test = pd.DataFrame({'test_x':tt_x, \"test_y\":tt_y})"
   ]
  },
  {
   "cell_type": "markdown",
   "metadata": {},
   "source": [
    "# Group Shuffle Split Method:"
   ]
  },
  {
   "cell_type": "code",
   "execution_count": null,
   "metadata": {},
   "outputs": [],
   "source": [
    "grpshsplit = model_selection.GroupShuffleSplit(n_splits=5, random_state=10)\n",
    "print(\"Train\", \"||\", \"Test\")\n",
    "groups = (1, 2, 1, 1, 2, 2, 2, 1, 1, 1)\n",
    "for train, test in grpshsplit.split(data, groups=groups):\n",
    "  print(train, \"||\", test)"
   ]
  },
  {
   "cell_type": "code",
   "execution_count": null,
   "metadata": {},
   "outputs": [],
   "source": [
    "tn = []\n",
    "tt = []\n",
    "for train, test in grpshsplit.split(data, groups=groups):\n",
    "  tn.append(np.take(data,train))\n",
    "  tt.append(np.take(data,test))\n",
    "grpshsplit_df = pd.DataFrame({\"train\":tn, \"test\":tt})\n",
    "grpshsplit_df"
   ]
  },
  {
   "cell_type": "markdown",
   "metadata": {},
   "source": [
    "#  Leave-One-Out Method:"
   ]
  },
  {
   "cell_type": "code",
   "execution_count": null,
   "metadata": {},
   "outputs": [],
   "source": [
    "loo = model_selection.LeaveOneOut()\n",
    "print(\"Train\", \"||\", \"Test\")\n",
    "for train, test in loo.split(data):\n",
    "  print(train, \"||\", test)"
   ]
  },
  {
   "cell_type": "code",
   "execution_count": null,
   "metadata": {},
   "outputs": [],
   "source": [
    "tn = []\n",
    "tt = []\n",
    "for train, test in loo.split(data):\n",
    "  tn.append(np.take(data,train))\n",
    "  tt.append(np.take(data,test))\n",
    "loo_df = pd.DataFrame({\"train\":tn, \"test\":tt})\n",
    "loo_df"
   ]
  },
  {
   "cell_type": "markdown",
   "metadata": {},
   "source": [
    "# Leave-P-Out Method:"
   ]
  },
  {
   "cell_type": "code",
   "execution_count": null,
   "metadata": {},
   "outputs": [],
   "source": [
    "lpo = model_selection.LeavePOut(2)\n",
    "tn = []\n",
    "tt = []\n",
    "for train, test in lpo.split(data):\n",
    "  tn.append(np.take(data,train))\n",
    "  tt.append(np.take(data,test))\n",
    "lpo_df = pd.DataFrame({\"train\":tn, \"test\":tt})\n",
    "lpo_df"
   ]
  },
  {
   "cell_type": "code",
   "execution_count": null,
   "metadata": {},
   "outputs": [],
   "source": [
    "tsplit = model_selection.TimeSeriesSplit(n_splits=9, max_train_size=10)\n",
    "print(\"Train\", \"||\", \"Test\")\n",
    "for train, test in tsplit.split(data):\n",
    "  print(train, \"||\", test)"
   ]
  },
  {
   "cell_type": "code",
   "execution_count": null,
   "metadata": {},
   "outputs": [],
   "source": [
    "tn = []\n",
    "tt = []\n",
    "for train, test in tsplit.split(data):\n",
    "  tn.append(np.take(data,train))\n",
    "  tt.append(np.take(data,test))\n",
    "tsplit_df = pd.DataFrame({\"train\":tn, \"test\":tt})\n",
    "tsplit_df"
   ]
  },
  {
   "cell_type": "markdown",
   "metadata": {},
   "source": [
    "# Blocked Cross-Validation"
   ]
  },
  {
   "cell_type": "code",
   "execution_count": null,
   "metadata": {},
   "outputs": [],
   "source": [
    "blocks = 2\n",
    "n = len(data) // 2\n",
    "\n",
    "for i in [data[i:i + n] for i in range(0, len(data), n)]:\n",
    "  train, test = model_selection.train_test_split(i)\n",
    "  print(train, \"||\", test)"
   ]
  },
  {
   "cell_type": "markdown",
   "metadata": {},
   "source": [
    "# Nested cross-validation"
   ]
  },
  {
   "cell_type": "code",
   "execution_count": null,
   "metadata": {},
   "outputs": [],
   "source": [
    "outter_cv = model_selection.KFold(n_splits=5)\n",
    "inner_cv = model_selection.KFold(n_splits=4)\n",
    "\n",
    "for train, test in outter_cv.split(data):\n",
    "  tr = np.take(data, train)\n",
    "  te = np.take(data, test)\n",
    "  print(tr, \"||\", te)\n",
    "  print(\"-----------------------------------\")\n",
    "  for in_train, in_test in inner_cv.split(tr):\n",
    "    in_tr = np.take(tr, in_train)\n",
    "    in_te = np.take(tr, in_test)\n",
    "    print(in_tr, \"||\", in_te)\n",
    "  print(\"<<<<<<<<<<----------------------------------->>>>>>>>>>>\")"
   ]
  }
 ],
 "metadata": {
  "kernelspec": {
   "display_name": "Python 3.7.9 ('azure-automl-env')",
   "language": "python",
   "name": "python3"
  },
  "language_info": {
   "codemirror_mode": {
    "name": "ipython",
    "version": 3
   },
   "file_extension": ".py",
   "mimetype": "text/x-python",
   "name": "python",
   "nbconvert_exporter": "python",
   "pygments_lexer": "ipython3",
   "version": "3.7.9"
  },
  "orig_nbformat": 4,
  "vscode": {
   "interpreter": {
    "hash": "9b3b2137299721db2bd930535d70f7e232902afee2c7a747f9c646803e5b28c2"
   }
  }
 },
 "nbformat": 4,
 "nbformat_minor": 2
}
