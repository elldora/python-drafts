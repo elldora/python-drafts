{
 "cells": [
  {
   "cell_type": "markdown",
   "metadata": {},
   "source": [
    "# How to work with Hazm"
   ]
  },
  {
   "cell_type": "code",
   "execution_count": null,
   "metadata": {},
   "outputs": [],
   "source": [
    "import pandas as pd\n",
    "import os\n",
    "import pathlib\n",
    "import pyarrow"
   ]
  },
  {
   "cell_type": "code",
   "execution_count": null,
   "metadata": {},
   "outputs": [],
   "source": [
    "\n",
    "path = 'e:/data/advertor_phoneless_imbalance_r60_p40_1400/'\n",
    "\n",
    "file_path_dict = {\n",
    "    'advertor': path+'Advertor_Advers_Imbalance_R60_P40_1400_1.parquet'}\n",
    "\n",
    "df_list = []\n",
    "for source, filepth in file_path_dict.items():\n",
    "    df = pd.read_parquet(filepth,  engine='pyarrow')\n",
    "    df_list.append(df[['AdverText', 'City_Id', 'IsRealtor_New']])\n",
    "\n",
    "df = pd.concat(df_list)\n",
    "print(df.iloc[0])\n",
    "df.head()"
   ]
  },
  {
   "cell_type": "code",
   "execution_count": null,
   "metadata": {},
   "outputs": [],
   "source": [
    "from hazm import *\n",
    "\n",
    "# Transform a text into a standard form.\n",
    "print(Normalizer().normalize(\"چه گل های زیبایی.\"))\n",
    "# چه گل‌های زیبایی\n",
    "\n",
    "# Extract the root of word (more speed, less accuracy).\n",
    "print(Stemmer().stem(\"کتاب‌هایشان\"))\n",
    "# کتاب\n",
    "\n",
    "# Extract the root of word (more accuracy, less speed).\n",
    "print(Lemmatizer().lemmatize(\"می‌روم\"))\n",
    "# رفت#رو\n",
    "\n",
    "# Split text into individual sentences.\n",
    "print(SentenceTokenizer().tokenize(\"بسیار خوشحال بود! پرسید، چرا دیروز نیامدی ؟\"))\n",
    "# ['پرسید، چرا دیروز نیامدی ؟','! بسیار خوشحال بود']\n",
    "\n",
    "# Split text into individual words.\n",
    "print(WordTokenizer().tokenize(\"پرسید، چرا دیروز نیامدی؟\"))\n",
    "# ['پرسید', '،', 'چرا', 'دیروز', 'نیامدی', '؟']\n",
    "\n",
    "# Assigns parts of speech to each word, such as noun, verb, adjective, etc.\n",
    "tagger = POSTagger(model='resources/postagger.model')\n",
    "print(tagger.tag(WordTokenizer().tokenize(\"ما بسیار کتاب می‌خوانیم\")))\n",
    "# [('ما', 'PRO'), ('بسیار', 'ADV'), ('کتاب', 'N'), ('می‌خوانیم', 'V')]\n",
    "\n",
    "# Segments a sentence into its subconstituents, such as noun (NP), verb (VP), etc.\n",
    "chunker = Chunker(model='resources/chunker.model')\n",
    "tagged = tagger.tag(word_tokenize('کتاب خواندن را دوست داریم'))\n",
    "tree2brackets(chunker.parse(tagged))\n",
    "# '[کتاب خواندن NP] [را POSTP] [دوست داریم VP]'\n",
    "\n",
    "# Identify semantic relations between words in a sentence.\n",
    "parser = DependencyParser(tagger=tagger, lemmatizer=lemmatizer)\n",
    "parser.parse(word_tokenize('زنگ‌ها برای که به صدا درمی‌آید؟'))\n",
    "# <DependencyGraph with 8 nodes>"
   ]
  }
 ],
 "metadata": {
  "kernelspec": {
   "display_name": "Python 3.8.13 ('tensorflow-keras')",
   "language": "python",
   "name": "python3"
  },
  "language_info": {
   "codemirror_mode": {
    "name": "ipython",
    "version": 3
   },
   "file_extension": ".py",
   "mimetype": "text/x-python",
   "name": "python",
   "nbconvert_exporter": "python",
   "pygments_lexer": "ipython3",
   "version": "3.8.13"
  },
  "orig_nbformat": 4,
  "vscode": {
   "interpreter": {
    "hash": "6792be08d248a6a913297fb0a515ddc17689372100569e91a189e4d8039a3a50"
   }
  }
 },
 "nbformat": 4,
 "nbformat_minor": 2
}
